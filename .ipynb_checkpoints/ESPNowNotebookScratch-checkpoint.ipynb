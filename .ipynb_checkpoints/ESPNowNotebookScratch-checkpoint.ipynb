{
 "cells": [
  {
   "cell_type": "code",
   "execution_count": null,
   "id": "af940a32-4d30-426d-8d05-48ab325beee5",
   "metadata": {},
   "outputs": [],
   "source": [
    "%serialconnect"
   ]
  },
  {
   "cell_type": "code",
   "execution_count": null,
   "id": "5b88b66c-8f13-4c11-aee9-354ec2fe9da2",
   "metadata": {
    "tags": []
   },
   "outputs": [],
   "source": []
  },
  {
   "cell_type": "code",
   "execution_count": null,
   "id": "beac74fe-da01-4f04-98d4-08b31bbecf21",
   "metadata": {
    "tags": []
   },
   "outputs": [],
   "source": [
    "import network\n",
    "import ubinascii\n",
    "import espnow\n",
    "import time"
   ]
  },
  {
   "cell_type": "code",
   "execution_count": 3,
   "id": "576c9453-ec12-473b-b687-a97e8fa05283",
   "metadata": {
    "tags": []
   },
   "outputs": [],
   "source": [
    "def setupESPNow():\n",
    "    sta = network.WLAN(network.STA_IF)\n",
    "    sta.active(True)\n",
    "    sta.disconnect()\n",
    "    \n",
    "    try:\n",
    "        e = espnow.ESPNow() #Enable ESPNow\n",
    "        e.active(True)\n",
    "        print(\"ESPNow Setup Successfully\")\n",
    "        return(e)\n",
    "    except:\n",
    "        print(\"Failure to setup ESPNow\")\n",
    "        return(0)"
   ]
  },
  {
   "cell_type": "code",
   "execution_count": 37,
   "id": "99c619c0-78a7-4f30-94ef-fa4cf7c8bb90",
   "metadata": {
    "tags": []
   },
   "outputs": [
    {
     "name": "stdout",
     "output_type": "stream",
     "text": [
      "Success : 348518abdc90\n",
      "My Mac Addr : <class 'bytes'>\n"
     ]
    }
   ],
   "source": [
    "def getMyMacAddr():\n",
    "    try: \n",
    "        wlan_sta = network.WLAN(network.STA_IF)\n",
    "        wlan_sta.active(True)\n",
    "        wlan_mac = wlan_sta.config('mac')\n",
    "        (wlan_mac)\n",
    "        print(f\"Success : {ubinascii.hexlify(wlan_mac).decode()}\")\n",
    "        return(type(wlan_mac))\n",
    "    except:\n",
    "        print(\"Could not get mac address for board....\")\n",
    "    \n",
    "myMacAddr = getMyMacAddr()\n",
    "print(f\"My Mac Addr : {myMacAddr}\")"
   ]
  },
  {
   "cell_type": "code",
   "execution_count": 46,
   "id": "72d3014b-f7e2-41f5-ae65-54e611645b9c",
   "metadata": {},
   "outputs": [],
   "source": [
    "def setupEspPeer(peer, e):\n",
    "    print(peer)\n",
    "    try:\n",
    "        e.add_peer(peer) \n",
    "        print(f\"Peer added : {peer}\")\n",
    "    except:\n",
    "        print(f\"Could not add peer  : {peer}\")\n",
    "    return(e)          "
   ]
  },
  {
   "cell_type": "code",
   "execution_count": 48,
   "id": "a37b817d-12ef-44a8-b9d8-06a5c0467192",
   "metadata": {
    "tags": []
   },
   "outputs": [],
   "source": [
    "def sendEspDataToPeers(peer, data, e):\n",
    "    try:\n",
    "        e.send(peer, data, True)\n",
    "        return(1)\n",
    "    except:\n",
    "        print(f\"Could not send data to peer : {peer}\")\n",
    "        return(0)\n"
   ]
  },
  {
   "cell_type": "code",
   "execution_count": 49,
   "id": "88958f66-f89c-4cae-829f-32cde338194f",
   "metadata": {},
   "outputs": [
    {
     "name": "stdout",
     "output_type": "stream",
     "text": [
      "ESPNow Setup Successfully\n",
      "b'\\xe8h\\xe7N\\xbb\\x19'\n",
      "Could not add peer  : b'\\xe8h\\xe7N\\xbb\\x19'\n",
      "<ESPNow object at 3fcb1820>\n"
     ]
    }
   ],
   "source": [
    "#Main \n",
    "import json\n",
    "ESPStatus = \"Master\"\n",
    "peerMAC = b'\\xe8\\x68\\xe7\\x4e\\xbb\\x19'\n",
    "e = setupESPNow()\n",
    "e = setupEspPeer(peerMAC, e)\n",
    "print(e)\n",
    "\n",
    "data = \"Test Data for ESPNow\"\n",
    "sendStatus = sendEspDataToPeers(peerMAC, data, e)\n"
   ]
  },
  {
   "cell_type": "code",
   "execution_count": 8,
   "id": "6037ff6e-edab-4b25-b997-53e594ba7526",
   "metadata": {
    "tags": []
   },
   "outputs": [
    {
     "name": "stdout",
     "output_type": "stream",
     "text": [
      "__main__          espnow            uasyncio/lock     upysh\n",
      "_boot             flashbdev         uasyncio/stream   urandom\n",
      "_espnow           framebuf          ubinascii         ure\n",
      "_onewire          gc                ubluetooth        urequests\n",
      "_secrets          inisetup          ucollections      uselect\n",
      "_thread           math              ucryptolib        usocket\n",
      "_uasyncio         micropython       uctypes           ussl\n",
      "_webrepl          mip/__init__      uerrno            ustruct\n",
      "aioespnow         neopixel          uhashlib          usys\n",
      "apa106            network           uheapq            utime\n",
      "btree             ntptime           uio               utimeq\n",
      "builtins          onewire           ujson             uwebsocket\n",
      "cmath             uarray            umachine          uzlib\n",
      "dht               uasyncio/__init__ umqtt/robust      webrepl\n",
      "ds18x20           uasyncio/core     umqtt/simple      webrepl_setup\n",
      "esp               uasyncio/event    uos\n",
      "esp32             uasyncio/funcs    uplatform\n",
      "Plus any modules on the filesystem\n"
     ]
    }
   ],
   "source": [
    "help(\"modules\")"
   ]
  },
  {
   "cell_type": "code",
   "execution_count": 44,
   "id": "9d7ec239-16d7-46f0-9305-42594ca3e3c5",
   "metadata": {
    "tags": []
   },
   "outputs": [
    {
     "name": "stdout",
     "output_type": "stream",
     "text": [
      "e868e74ebb19\n",
      "b'\\xe8h\\xe7N\\xbb\\x19'\n"
     ]
    }
   ],
   "source": [
    "peerMAC = b'\\xe8\\x68\\xe7\\x4e\\xbb\\x19'\n",
    "\n",
    "print(peerMAC.hex())\n",
    "\n",
    "asciiMAC = peerMAC.hex()\n",
    "\n",
    "print(bytes.fromhex(asciiMAC))"
   ]
  },
  {
   "cell_type": "code",
   "execution_count": 45,
   "id": "3170329f-6bec-4125-845d-c9c15eb2c144",
   "metadata": {
    "tags": []
   },
   "outputs": [
    {
     "name": "stdout",
     "output_type": "stream",
     "text": [
      "object <class 'bytes'> is of type type\n",
      "  hex -- <function>\n",
      "  fromhex -- <classmethod>\n",
      "  decode -- <function>\n",
      "  find -- <function>\n",
      "  rfind -- <function>\n",
      "  index -- <function>\n",
      "  rindex -- <function>\n",
      "  join -- <function>\n",
      "  split -- <function>\n",
      "  splitlines -- <function>\n",
      "  rsplit -- <function>\n",
      "  startswith -- <function>\n",
      "  endswith -- <function>\n",
      "  strip -- <function>\n",
      "  lstrip -- <function>\n",
      "  rstrip -- <function>\n",
      "  format -- <function>\n",
      "  replace -- <function>\n",
      "  count -- <function>\n",
      "  partition -- <function>\n",
      "  rpartition -- <function>\n",
      "  center -- <function>\n",
      "  lower -- <function>\n",
      "  upper -- <function>\n",
      "  isspace -- <function>\n",
      "  isalpha -- <function>\n",
      "  isdigit -- <function>\n",
      "  isupper -- <function>\n",
      "  islower -- <function>\n"
     ]
    }
   ],
   "source": [
    "help(bytes)"
   ]
  }
 ],
 "metadata": {
  "kernelspec": {
   "display_name": "MicroPython - USB",
   "language": "micropython",
   "name": "micropython"
  },
  "language_info": {
   "codemirror_mode": "python",
   "file_extension": ".py",
   "mimetype": "text/python",
   "name": "micropython"
  }
 },
 "nbformat": 4,
 "nbformat_minor": 5
}
