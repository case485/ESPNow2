{
 "cells": [
  {
   "cell_type": "code",
   "execution_count": 1,
   "id": "af940a32-4d30-426d-8d05-48ab325beee5",
   "metadata": {},
   "outputs": [
    {
     "name": "stdout",
     "output_type": "stream",
     "text": [
      "\u001b[34mConnecting to --port=COM27 --baud=115200 \u001b[0m\n",
      "\u001b[34mReady.\n",
      "\u001b[0m"
     ]
    }
   ],
   "source": [
    "%serialconnect"
   ]
  },
  {
   "cell_type": "code",
   "execution_count": 19,
   "id": "5b88b66c-8f13-4c11-aee9-354ec2fe9da2",
   "metadata": {
    "tags": []
   },
   "outputs": [
    {
     "name": "stderr",
     "output_type": "stream",
     "text": [
      "Traceback (most recent call last):\n",
      "  File \"<stdin>\", line 1, in <module>\n",
      "NameError: name 'exit' isn't defined\n"
     ]
    }
   ],
   "source": []
  },
  {
   "cell_type": "code",
   "execution_count": 35,
   "id": "beac74fe-da01-4f04-98d4-08b31bbecf21",
   "metadata": {
    "tags": []
   },
   "outputs": [],
   "source": [
    "import network\n",
    "import ubinascii\n",
    "import espnow\n",
    "import time"
   ]
  },
  {
   "cell_type": "code",
   "execution_count": 30,
   "id": "576c9453-ec12-473b-b687-a97e8fa05283",
   "metadata": {
    "tags": []
   },
   "outputs": [],
   "source": [
    "def setupESPNow():\n",
    "    sta = network.WLAN(network.STA_IF)\n",
    "    sta.active(True)\n",
    "    sta.disconnect()\n",
    "    \n",
    "    try:\n",
    "        e = espnow.ESPNow() #Enable ESPNow\n",
    "        e.active(True)\n",
    "        print(\"ESPNow Setup Successfully\")\n",
    "        return(e)\n",
    "    except:\n",
    "        print(\"Failure to setup ESPNow\")\n",
    "        return(0)"
   ]
  },
  {
   "cell_type": "code",
   "execution_count": 53,
   "id": "99c619c0-78a7-4f30-94ef-fa4cf7c8bb90",
   "metadata": {
    "tags": []
   },
   "outputs": [
    {
     "name": "stdout",
     "output_type": "stream",
     "text": [
      "b'348518abdc90'\n",
      "My Mac Addr : b'4\\x85\\x18\\xab\\xdc\\x90'\n"
     ]
    }
   ],
   "source": [
    "def getMyMacAddr():\n",
    "    try: \n",
    "        wlan_sta = network.WLAN(network.STA_IF)\n",
    "        wlan_sta.active(True)\n",
    "        wlan_mac = wlan_sta.config('mac')\n",
    "        (wlan_mac)\n",
    "        print(ubinascii.hexlify(wlan_mac))\n",
    "        return(wlan_mac)\n",
    "    except:\n",
    "        print(\"Could not get mac address for board....\")\n",
    "    \n",
    "myMacAddr = getMyMacAddr()\n",
    "print(f\"My Mac Addr : {myMacAddr}\")"
   ]
  },
  {
   "cell_type": "code",
   "execution_count": 31,
   "id": "88958f66-f89c-4cae-829f-32cde338194f",
   "metadata": {},
   "outputs": [
    {
     "name": "stdout",
     "output_type": "stream",
     "text": [
      "ESPNow Setup Successfully\n",
      "<ESPNow object at 3fcb0fa0>\n"
     ]
    }
   ],
   "source": [
    "e = setupESPNow()\n",
    "print(e)"
   ]
  },
  {
   "cell_type": "code",
   "execution_count": 47,
   "id": "6037ff6e-edab-4b25-b997-53e594ba7526",
   "metadata": {
    "tags": []
   },
   "outputs": [
    {
     "name": "stdout",
     "output_type": "stream",
     "text": [
      "__main__          espnow            uasyncio/lock     upysh\n",
      "_boot             flashbdev         uasyncio/stream   urandom\n",
      "_espnow           framebuf          ubinascii         ure\n",
      "_onewire          gc                ubluetooth        urequests\n",
      "_secrets          inisetup          ucollections      uselect\n",
      "_thread           math              ucryptolib        usocket\n",
      "_uasyncio         micropython       uctypes           ussl\n",
      "_webrepl          mip/__init__      uerrno            ustruct\n",
      "aioespnow         neopixel          uhashlib          usys\n",
      "apa106            network           uheapq            utime\n",
      "btree             ntptime           uio               utimeq\n",
      "builtins          onewire           ujson             uwebsocket\n",
      "cmath             uarray            umachine          uzlib\n",
      "dht               uasyncio/__init__ umqtt/robust      webrepl\n",
      "ds18x20           uasyncio/core     umqtt/simple      webrepl_setup\n",
      "esp               uasyncio/event    uos\n",
      "esp32             uasyncio/funcs    uplatform\n",
      "Plus any modules on the filesystem\n"
     ]
    }
   ],
   "source": [
    "help(\"modules\")"
   ]
  }
 ],
 "metadata": {
  "kernelspec": {
   "display_name": "MicroPython - USB",
   "language": "micropython",
   "name": "micropython"
  },
  "language_info": {
   "codemirror_mode": "python",
   "file_extension": ".py",
   "mimetype": "text/python",
   "name": "micropython"
  }
 },
 "nbformat": 4,
 "nbformat_minor": 5
}
