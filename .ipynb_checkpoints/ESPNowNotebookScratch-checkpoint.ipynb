{
 "cells": [
  {
   "cell_type": "code",
   "execution_count": null,
   "id": "af940a32-4d30-426d-8d05-48ab325beee5",
   "metadata": {},
   "outputs": [],
   "source": [
    "%serialconnect"
   ]
  }
 ],
 "metadata": {
  "kernelspec": {
   "display_name": "MicroPython - USB",
   "language": "micropython",
   "name": "micropython"
  },
  "language_info": {
   "codemirror_mode": "python",
   "file_extension": ".py",
   "mimetype": "text/python",
   "name": "micropython"
  }
 },
 "nbformat": 4,
 "nbformat_minor": 5
}
