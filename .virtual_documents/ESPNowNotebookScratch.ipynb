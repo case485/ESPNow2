get_ipython().run_line_magic("serialconnect", "")


def xy():
    print("1"
