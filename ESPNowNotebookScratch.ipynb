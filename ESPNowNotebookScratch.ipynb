{
 "cells": [
  {
   "cell_type": "code",
   "execution_count": 1,
   "id": "af940a32-4d30-426d-8d05-48ab325beee5",
   "metadata": {},
   "outputs": [
    {
     "name": "stdout",
     "output_type": "stream",
     "text": [
      "\u001b[34mConnecting to --port=COM6 --baud=115200 \u001b[0m\n",
      "\u001b[34mReady.\n",
      "\u001b[0m"
     ]
    }
   ],
   "source": [
    "%serialconnect"
   ]
  },
  {
   "cell_type": "code",
   "execution_count": 8,
   "id": "5b88b66c-8f13-4c11-aee9-354ec2fe9da2",
   "metadata": {
    "tags": []
   },
   "outputs": [
    {
     "name": "stdout",
     "output_type": "stream",
     "text": [
      "you have 5 seconds to do Ctrl-C if you want to edit the program\n",
      "<ESPNow object at 3ffe6510>\n",
      "waiting for initial msg from the repeater\n",
      "................................\n",
      "**[ys] <class 'serial.serialutil.SerialException'>\n",
      "**[ys] ClearCommError failed (PermissionError(13, 'Access is denied.', None, 5))\n",
      "\n",
      "\n",
      "**[ys] <class 'serial.serialutil.SerialException'>\n",
      "**[ys] ClearCommError failed (PermissionError(13, 'Access is denied.', None, 5))\n",
      "\n"
     ]
    }
   ],
   "source": [
    "# local.py for ESPNow repeater link.\n",
    "\n",
    "# The MIT License (MIT)\n",
    "#\n",
    "# Copyright (c) 2021 David Festing\n",
    "# Copyright (c) 2021 Glenn Moloney, https://github.com/glenn20/micropython-espnow-images\n",
    "#\n",
    "# Permission is hereby granted, free of charge, to any person obtaining a copy\n",
    "# of this software and associated documentation files (the \"Software\"), to deal\n",
    "# in the Software without restriction, including without limitation the rights\n",
    "# to use, copy, modify, merge, publish, distribute, sublicense, and/or sell\n",
    "# copies of the Software, and to permit persons to whom the Software is\n",
    "# furnished to do so, subject to the following conditions:\n",
    "#\n",
    "# The above copyright notice and this permission notice shall be included in\n",
    "# all copies or substantial portions of the Software.\n",
    "#\n",
    "# THE SOFTWARE IS PROVIDED \"AS IS\", WITHOUT WARRANTY OF ANY KIND, EXPRESS OR\n",
    "# IMPLIED, INCLUDING BUT NOT LIMITED TO THE WARRANTIES OF MERCHANTABILITY,\n",
    "# FITNESS FOR A PARTICULAR PURPOSE AND NONINFRINGEMENT. IN NO EVENT SHALL THE\n",
    "# AUTHORS OR COPYRIGHT HOLDERS BE LIABLE FOR ANY CLAIM, DAMAGES OR OTHER\n",
    "# LIABILITY, WHETHER IN AN ACTION OF CONTRACT, TORT OR OTHERWISE, ARISING FROM,\n",
    "# OUT OF OR IN CONNECTION WITH THE SOFTWARE OR THE USE OR OTHER DEALINGS IN\n",
    "# THE SOFTWARE.\n",
    "\n",
    "\n",
    "# V1 18 Sept 2021\n",
    "\n",
    "\n",
    "import network\n",
    "import espnow\n",
    "import utime\n",
    "import machine\n",
    "from machine import Pin\n",
    "#from machine import WDT\n",
    "\n",
    "\n",
    "CYCLE_TIME = 70             # seconds\n",
    "REBOOT_DELAY = 5            # seconds\n",
    "LED_PIN = 27\n",
    "repeater_mac = b'\\x08:\\xf2\\xab^\\x04'\n",
    "#wdt = WDT(timeout = (CYCLE_TIME + 10) * 1000)  # enable it with a timeout\n",
    "#wdt.feed()\n",
    "\n",
    "\n",
    "def reboot(delay = REBOOT_DELAY):\n",
    " #  print a message and give time for user to pre-empt reboot\n",
    " #  in case we are in a (battery consuming) boot loop\n",
    "    print (f'Rebooting device in {delay} seconds (Ctrl-C to escape).')\n",
    " #  or just machine.deepsleep(delay) or lightsleep()\n",
    "    utime.sleep(delay)\n",
    "    machine.reset()\n",
    "\n",
    "\n",
    "try:\n",
    "    print ('you have 5 seconds to do Ctrl-C if you want to edit the program')\n",
    "    utime.sleep(2)\n",
    "\n",
    "    # led_pin = Pin(LED_PIN, Pin.OUT) #  LED drive pin\n",
    "    w0 = network.WLAN(network.STA_IF)\n",
    "#    print (w0.config('mac'))\n",
    "    e0 = espnow.ESPNow()\n",
    "    print (e0)\n",
    "\n",
    " #  these functions generate exceptions on error - always return None\n",
    "    e0.active(True)\n",
    " #  so that we wake up and reset the wdt before it times out\n",
    "    e0.config()\n",
    "    # e0.add_peer(repeater_mac)\n",
    "except KeyboardInterrupt as err:\n",
    "    raise err #  use Ctrl-C to exit to micropython repl\n",
    "except Exception as err:\n",
    "    print ('Error initialising espnow:', err)\n",
    "    reboot()\n",
    "\n",
    "\n",
    "try:\n",
    "    print ('waiting for initial msg from the repeater')\n",
    "\n",
    "    w0.active(True)\n",
    "\n",
    "    for mac, msg in e0:\n",
    "#        wdt.feed()\n",
    "        if mac == repeater_mac:\n",
    "            msg = msg.decode('utf-8')\n",
    "            print (msg)\n",
    "\n",
    "         #  alarm off if 'level OK', anything else is an alarm\n",
    "            led_pin.value(0 if msg == 'level OK' else 1)\n",
    "        elif mac == None:\n",
    "            pass #  timed out waiting for message\n",
    "        else:\n",
    "            print ('Recv from {}: \"{}\"'.format(mac, msg))\n",
    "except KeyboardInterrupt as err:\n",
    "    raise err #  use Ctrl-C to exit to micropython repl\n",
    "except Exception as err:\n",
    " #  all other exceptions cause a reboot\n",
    "    print ('Error during execution:', err)\n",
    "    reboot()"
   ]
  },
  {
   "cell_type": "code",
   "execution_count": null,
   "id": "eb6335c4-3312-4a81-8a81-0fe197d8a014",
   "metadata": {},
   "outputs": [],
   "source": []
  }
 ],
 "metadata": {
  "kernelspec": {
   "display_name": "MicroPython - USB",
   "language": "micropython",
   "name": "micropython"
  },
  "language_info": {
   "codemirror_mode": "python",
   "file_extension": ".py",
   "mimetype": "text/python",
   "name": "micropython"
  }
 },
 "nbformat": 4,
 "nbformat_minor": 5
}
