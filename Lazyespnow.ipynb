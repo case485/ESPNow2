{
 "cells": [
  {
   "cell_type": "code",
   "execution_count": 1,
   "id": "bd39e1f2-6a8b-47a7-8786-ecfebd2c1256",
   "metadata": {},
   "outputs": [
    {
     "name": "stdout",
     "output_type": "stream",
     "text": [
      "\u001b[34mReady.\n",
      "\u001b[0m"
     ]
    }
   ],
   "source": [
    "%serialconnect"
   ]
  },
  {
   "cell_type": "code",
   "execution_count": 2,
   "id": "3c593edf-de14-4392-80cd-e685876cd8c7",
   "metadata": {},
   "outputs": [
    {
     "name": "stderr",
     "output_type": "stream",
     "text": [
      "Traceback (most recent call last):\n",
      "  File \"<stdin>\", line 3, in <module>\n",
      "  File \"/lib/wifi.py\", line 123, in reset\n",
      "TypeError: can't convert NoneType to int\n"
     ]
    }
   ],
   "source": [
    "import wifi\n",
    "\n",
    "sta, ap = wifi.reset()   # STA_IF on and disconnected, AP off, channel=1\n",
    "# sta, ap = wifi.reset(sta=True, ap=True, channel=6)\n",
    "# wifi.connect(\"West3\")\n",
    "# wifi.status()            # Print details on wifi config"
   ]
  },
  {
   "cell_type": "code",
   "execution_count": 3,
   "id": "9029761e-f10a-420f-9dab-ae1b23bee48d",
   "metadata": {},
   "outputs": [],
   "source": [
    "# from lazyespnow import LazyESPNow\n",
    "\n",
    "# peer = b'\\xaa\\xaa\\xaa\\xaa\\xaa\\xaa'\n",
    "# message = \"Test\"\n",
    "# enow = LazyESPNow()\n",
    "# enow.send(peer, message)    # Automatically call active(True) and add_peer()"
   ]
  },
  {
   "cell_type": "code",
   "execution_count": 4,
   "id": "00d16611-2d29-4cef-bf84-3511a0008a06",
   "metadata": {},
   "outputs": [
    {
     "name": "stdout",
     "output_type": "stream",
     "text": [
      "esp32\n"
     ]
    }
   ],
   "source": [
    "import sys\n",
    "print(sys.platform)"
   ]
  },
  {
   "cell_type": "code",
   "execution_count": 5,
   "id": "89d82b33-5675-4e6c-a147-3cb8a38ad36f",
   "metadata": {},
   "outputs": [],
   "source": [
    "import network\n"
   ]
  },
  {
   "cell_type": "code",
   "execution_count": 6,
   "id": "e2a0bc7f-0174-4286-a682-4e9e503a59fa",
   "metadata": {},
   "outputs": [],
   "source": [
    "wlans = [network.WLAN(w) for w in (network.STA_IF, network.AP_IF)]\n",
    "sta, ap = wlans"
   ]
  },
  {
   "cell_type": "code",
   "execution_count": 7,
   "id": "c94a8c27-e25b-4363-8ab5-c2e839c9bc53",
   "metadata": {},
   "outputs": [
    {
     "name": "stdout",
     "output_type": "stream",
     "text": [
      "................................\u001b[34m\n",
      "\n",
      "*** Sending Ctrl-C\n",
      "\n",
      "\u001b[0m"
     ]
    },
    {
     "name": "stderr",
     "output_type": "stream",
     "text": [
      "Traceback (most recent call last):\n",
      "  File \"<stdin>\", line 12, in <module>\n",
      "KeyboardInterrupt: \n"
     ]
    }
   ],
   "source": [
    "import network, espnow, time\n",
    "\n",
    "sta = network.WLAN(network.STA_IF) \n",
    "sta.active(True) # Reset wifi to AP off, STA on and disconnected\n",
    "sta.config(channel=6)    # Change to the channel used by the proxy above.\n",
    "peer = b'0\\xaa\\xaa\\xaa\\xaa\\xaa'  # MAC address of proxy\n",
    "e = espnow.ESPNow(); e.active(True);\n",
    "e.add_peer(peer)\n",
    "while True:\n",
    "    msg = \"read_sensor()\"\n",
    "    e.send(peer, msg)\n",
    "    time.sleep(1)"
   ]
  }
 ],
 "metadata": {
  "kernelspec": {
   "display_name": "MicroPython - USB",
   "language": "micropython",
   "name": "micropython"
  },
  "language_info": {
   "codemirror_mode": "python",
   "file_extension": ".py",
   "mimetype": "text/python",
   "name": "micropython"
  }
 },
 "nbformat": 4,
 "nbformat_minor": 5
}
