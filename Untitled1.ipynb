{
 "cells": [
  {
   "cell_type": "code",
   "execution_count": 1,
   "id": "04468d82-7898-4d07-bbb4-4949eda2c806",
   "metadata": {},
   "outputs": [
    {
     "name": "stdout",
     "output_type": "stream",
     "text": [
      "\u001b[34mReady.\n",
      "\u001b[0m"
     ]
    }
   ],
   "source": [
    "%serialconnect"
   ]
  },
  {
   "cell_type": "code",
   "execution_count": 2,
   "id": "8c425469-2d4b-4ffa-8530-bc630e96b242",
   "metadata": {
    "jupyter": {
     "source_hidden": true
    }
   },
   "outputs": [],
   "source": [
    "# µPing (MicroPing) for MicroPython\n",
    "# copyright (c) 2018 Shawwwn <shawwwn1@gmail.com>\n",
    "# License: MIT\n",
    "\n",
    "# Internet Checksum Algorithm\n",
    "# Author: Olav Morken\n",
    "# https://github.com/olavmrk/python-ping/blob/master/ping.py\n",
    "# @data: bytes\n",
    "def checksum(data):\n",
    "    if len(data) & 0x1: # Odd number of bytes\n",
    "        data += b'\\0'\n",
    "    cs = 0\n",
    "    for pos in range(0, len(data), 2):\n",
    "        b1 = data[pos]\n",
    "        b2 = data[pos + 1]\n",
    "        cs += (b1 << 8) + b2\n",
    "    while cs >= 0x10000:\n",
    "        cs = (cs & 0xffff) + (cs >> 16)\n",
    "    cs = ~cs & 0xffff\n",
    "    return cs\n",
    "\n",
    "def ping(host, count=4, timeout=5000, interval=10, quiet=False, size=64):\n",
    "    import utime\n",
    "    import uselect\n",
    "    import uctypes\n",
    "    import usocket\n",
    "    import ustruct\n",
    "    import urandom\n",
    "\n",
    "    # prepare packet\n",
    "    assert size >= 16, \"pkt size too small\"\n",
    "    pkt = b'Q'*size\n",
    "    pkt_desc = {\n",
    "        \"type\": uctypes.UINT8 | 0,\n",
    "        \"code\": uctypes.UINT8 | 1,\n",
    "        \"checksum\": uctypes.UINT16 | 2,\n",
    "        \"id\": uctypes.UINT16 | 4,\n",
    "        \"seq\": uctypes.INT16 | 6,\n",
    "        \"timestamp\": uctypes.UINT64 | 8,\n",
    "    } # packet header descriptor\n",
    "    h = uctypes.struct(uctypes.addressof(pkt), pkt_desc, uctypes.BIG_ENDIAN)\n",
    "    h.type = 8 # ICMP_ECHO_REQUEST\n",
    "    h.code = 0\n",
    "    h.checksum = 0\n",
    "    h.id = urandom.randint(0, 65535)\n",
    "    h.seq = 1\n",
    "\n",
    "    # init socket\n",
    "    sock = usocket.socket(usocket.AF_INET, usocket.SOCK_RAW, 1)\n",
    "    sock.setblocking(0)\n",
    "    sock.settimeout(timeout/1000)\n",
    "    addr = usocket.getaddrinfo(host, 1)[0][-1][0] # ip address\n",
    "    sock.connect((addr, 1))\n",
    "    not quiet and print(\"PING %s (%s): %u data bytes\" % (host, addr, len(pkt)))\n",
    "\n",
    "    seqs = list(range(1, count+1)) # [1,2,...,count]\n",
    "    c = 1\n",
    "    t = 0\n",
    "    n_trans = 0\n",
    "    n_recv = 0\n",
    "    finish = False\n",
    "    while t < timeout:\n",
    "        if t==interval and c<=count:\n",
    "            # send packet\n",
    "            h.checksum = 0\n",
    "            h.seq = c\n",
    "            h.timestamp = utime.ticks_us()\n",
    "            h.checksum = checksum(pkt)\n",
    "            if sock.send(pkt) == size:\n",
    "                n_trans += 1\n",
    "                t = 0 # reset timeout\n",
    "            else:\n",
    "                seqs.remove(c)\n",
    "            c += 1\n",
    "\n",
    "        # recv packet\n",
    "        while 1:\n",
    "            socks, _, _ = uselect.select([sock], [], [], 0)\n",
    "            if socks:\n",
    "                resp = socks[0].recv(4096)\n",
    "                resp_mv = memoryview(resp)\n",
    "                h2 = uctypes.struct(uctypes.addressof(resp_mv[20:]), pkt_desc, uctypes.BIG_ENDIAN)\n",
    "                # TODO: validate checksum (optional)\n",
    "                seq = h2.seq\n",
    "                if h2.type==0 and h2.id==h.id and (seq in seqs): # 0: ICMP_ECHO_REPLY\n",
    "                    t_elasped = (utime.ticks_us()-h2.timestamp) / 1000\n",
    "                    ttl = ustruct.unpack('!B', resp_mv[8:9])[0] # time-to-live\n",
    "                    n_recv += 1\n",
    "                    not quiet and print(\"%u bytes from %s: icmp_seq=%u, ttl=%u, time=%f ms\" % (len(resp), addr, seq, ttl, t_elasped))\n",
    "                    seqs.remove(seq)\n",
    "                    if len(seqs) == 0:\n",
    "                        finish = True\n",
    "                        break\n",
    "            else:\n",
    "                break\n",
    "\n",
    "        if finish:\n",
    "            break\n",
    "\n",
    "        utime.sleep_ms(1)\n",
    "        t += 1\n",
    "\n",
    "    # close\n",
    "    sock.close()\n",
    "    ret = (n_trans, n_recv)\n",
    "    not quiet and print(\"%u packets transmitted, %u packets received\" % (n_trans, n_recv))\n",
    "    return (n_trans, n_recv)"
   ]
  },
  {
   "cell_type": "code",
   "execution_count": 3,
   "id": "0051d6c2-2800-4501-8be9-135c6afd11b8",
   "metadata": {},
   "outputs": [],
   "source": [
    "import network, espnow\n",
    "\n"
   ]
  },
  {
   "cell_type": "code",
   "execution_count": 4,
   "id": "8594016c-da6a-46a2-8f9e-9f9369927a0c",
   "metadata": {},
   "outputs": [
    {
     "name": "stdout",
     "output_type": "stream",
     "text": [
      "espNow Init Status: <ESPNow object at 3ffe6510>\n"
     ]
    }
   ],
   "source": [
    "sta = network.WLAN(network.STA_IF)    \n",
    "sta.active(True)\n",
    "sta.config(channel=7)\n",
    "e0 = espnow.ESPNow()  \n",
    "e0.active(True)\n",
    "print(f\"espNow Init Status: {e0}\")\n",
    "peer= b'\\xa0\\xb7eJ\\x08\\x98'\n",
    "e0.add_peer(peer)\n",
    "\n"
   ]
  },
  {
   "cell_type": "code",
   "execution_count": 6,
   "id": "0b022cc8-c6a8-448a-81e8-ba4a028fcc56",
   "metadata": {},
   "outputs": [
    {
     "name": "stdout",
     "output_type": "stream",
     "text": [
      "Sending data to Peer...False\n"
     ]
    }
   ],
   "source": [
    "if(e0 == None):\n",
    "    espnowInit()\n",
    "\n",
    "msg = \"TEST MESSAGE\"\n",
    "status= e0.send(peer, msg , True)\n",
    "print(f\"Sending data to Peer...{status}\")\n"
   ]
  }
 ],
 "metadata": {
  "kernelspec": {
   "display_name": "MicroPython - USB",
   "language": "micropython",
   "name": "micropython"
  },
  "language_info": {
   "codemirror_mode": "python",
   "file_extension": ".py",
   "mimetype": "text/python",
   "name": "micropython"
  }
 },
 "nbformat": 4,
 "nbformat_minor": 5
}
